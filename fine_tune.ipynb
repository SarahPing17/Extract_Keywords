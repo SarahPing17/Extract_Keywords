{
 "cells": [
  {
   "cell_type": "code",
   "execution_count": 13,
   "metadata": {},
   "outputs": [
    {
     "data": {
      "text/plain": [
       "FileObject(id='file-3UT9z8JVuTboikThbH5OgNs3', bytes=307014, created_at=1712681308, filename='allmajor_messages_no_keywords_content.jsonl', object='file', purpose='fine-tune', status='processed', status_details=None)"
      ]
     },
     "execution_count": 13,
     "metadata": {},
     "output_type": "execute_result"
    }
   ],
   "source": [
    "from openai import OpenAI\n",
    "client = OpenAI()\n",
    "\n",
    "client.files.create(\n",
    "  file=open(\"/Users/yihanping/Documents/gatech/Research/openai/allmajor_messages_no_keywords_content.jsonl\", \"rb\"),\n",
    "  purpose=\"fine-tune\"\n",
    ")"
   ]
  },
  {
   "cell_type": "code",
   "execution_count": 3,
   "metadata": {},
   "outputs": [],
   "source": [
    "import os\n",
    "import openai\n",
    "from openai import OpenAI\n",
    "from dotenv import load_dotenv\n",
    "\n",
    "load_dotenv()\n",
    "\n",
    "openai.api_key=os.getenv('OPENAI_API_KEY')"
   ]
  },
  {
   "cell_type": "code",
   "execution_count": 14,
   "metadata": {},
   "outputs": [
    {
     "data": {
      "text/plain": [
       "FineTuningJob(id='ftjob-Wxr6sy80s99eANJ5Gm6D7TY1', created_at=1712681323, error=Error(code=None, message=None, param=None, error=None), fine_tuned_model=None, finished_at=None, hyperparameters=Hyperparameters(n_epochs='auto', batch_size='auto', learning_rate_multiplier='auto'), model='gpt-3.5-turbo-0125', object='fine_tuning.job', organization_id='org-p2XhAzYzTb8JXPBzeqrg25mJ', result_files=[], status='validating_files', trained_tokens=None, training_file='file-3UT9z8JVuTboikThbH5OgNs3', validation_file=None, user_provided_suffix=None, seed=1160686803, integrations=[])"
      ]
     },
     "execution_count": 14,
     "metadata": {},
     "output_type": "execute_result"
    }
   ],
   "source": [
    "from openai import OpenAI\n",
    "client = OpenAI()\n",
    "\n",
    "client.fine_tuning.jobs.create(\n",
    "  training_file=\"file-3UT9z8JVuTboikThbH5OgNs3\", \n",
    "  model=\"gpt-3.5-turbo\"\n",
    ")"
   ]
  },
  {
   "cell_type": "code",
   "execution_count": 43,
   "metadata": {},
   "outputs": [
    {
     "data": {
      "text/plain": [
       "FineTuningJob(id='ftjob-g2gr7aU8UZh2RWcrTQFX1hoA', created_at=1712072977, error=Error(code=None, message=None, param=None, error=None), fine_tuned_model='ft:gpt-3.5-turbo-0125:personal::99atAxbd', finished_at=1712073779, hyperparameters=Hyperparameters(n_epochs=3, batch_size=1, learning_rate_multiplier=2), model='gpt-3.5-turbo-0125', object='fine_tuning.job', organization_id='org-p2XhAzYzTb8JXPBzeqrg25mJ', result_files=['file-OcpM9I1BQIhpnGrU7eYsWshT'], status='succeeded', trained_tokens=219969, training_file='file-lAPTzDtVYlEbcdOynz09Kxcg', validation_file=None, user_provided_suffix=None)"
      ]
     },
     "execution_count": 43,
     "metadata": {},
     "output_type": "execute_result"
    }
   ],
   "source": [
    "client.fine_tuning.jobs.retrieve(\"ftjob-g2gr7aU8UZh2RWcrTQFX1hoA\")"
   ]
  },
  {
   "cell_type": "code",
   "execution_count": 44,
   "metadata": {},
   "outputs": [
    {
     "data": {
      "text/plain": [
       "b'step,train_loss,train_accuracy,valid_loss,valid_mean_token_accuracy\\n1,1.10435,0.85185,,\\n2,0.66578,0.88889,,\\n3,1.42127,0.88,,\\n4,1.02251,0.91667,,\\n5,1.91115,0.83333,,\\n6,0.57288,0.94,,\\n7,2.56147,0.67647,,\\n8,1.06292,0.88889,,\\n9,1.31866,0.86957,,\\n10,0.93267,0.88889,,\\n11,1.48446,0.8,,\\n12,0.50976,0.93939,,\\n13,0.72595,0.76923,,\\n14,1.15022,0.88,,\\n15,0.6437,0.93548,,\\n16,0.47782,0.94286,,\\n17,0.60987,0.92,,\\n18,0.65282,0.9,,\\n19,3.99269,0.47826,,\\n20,1.71291,0.82051,,\\n21,0.37794,0.92593,,\\n22,0.46052,0.8125,,\\n23,2.13403,0.8,,\\n24,0.24618,0.94872,,\\n25,0.17576,0.93939,,\\n26,0.07483,1.0,,\\n27,0.46038,0.93333,,\\n28,0.48469,0.93333,,\\n29,0.19901,0.92,,\\n30,1.46279,0.81818,,\\n31,0.02535,1.0,,\\n32,0.09433,0.95833,,\\n33,0.02091,1.0,,\\n34,0.11917,0.96154,,\\n35,0.57811,0.90476,,\\n36,0.01409,1.0,,\\n37,0.00506,1.0,,\\n38,0.07421,0.96429,,\\n39,0.03215,1.0,,\\n40,0.27512,0.95833,,\\n41,0.03665,1.0,,\\n42,0.39736,0.95833,,\\n43,0.01594,1.0,,\\n44,0.0312,1.0,,\\n45,0.04364,0.95833,,\\n46,0.00763,1.0,,\\n47,0.02388,1.0,,\\n48,2.26823,0.5625,,\\n49,0.3214,0.95455,,\\n50,2.06923,0.65517,,\\n51,0.37238,0.94737,,\\n52,0.6948,0.86957,,\\n53,1.57595,0.61538,,\\n54,0.00163,1.0,,\\n55,0.00191,1.0,,\\n56,0.00835,1.0,,\\n57,0.00176,1.0,,\\n58,0.00087,1.0,,\\n59,0.95306,0.84848,,\\n60,0.19228,0.96667,,\\n61,0.00342,1.0,,\\n62,0.00037,1.0,,\\n63,0.22948,0.96296,,\\n64,0.00163,1.0,,\\n65,0.00212,1.0,,\\n66,0.00102,1.0,,\\n67,0.00106,1.0,,\\n68,0.0035,1.0,,\\n69,0.04702,0.97059,,\\n70,1.1966,0.69231,,\\n71,0.00016,1.0,,\\n72,0.28358,0.94737,,\\n73,1.15937,0.69231,,\\n74,0.00057,1.0,,\\n75,0.14556,0.95833,,\\n76,0.0065,1.0,,\\n77,0.00148,1.0,,\\n78,0.00018,1.0,,\\n79,1.47648,0.65385,,\\n80,0.02086,0.97059,,\\n81,0.26415,0.95833,,\\n82,0.00021,1.0,,\\n83,0.00278,1.0,,\\n84,2.02453,0.625,,\\n85,0.00127,1.0,,\\n86,0.00136,1.0,,\\n87,1.43915,0.84,,\\n88,0.0002,1.0,,\\n89,0.00036,1.0,,\\n90,0.26511,0.96296,,\\n91,0.8794,0.86364,,\\n92,3e-05,1.0,,\\n93,8e-05,1.0,,\\n94,0.00019,1.0,,\\n95,2.51745,0.52174,,\\n96,0.00018,1.0,,\\n97,0.3532,0.94444,,\\n98,1.36489,0.79412,,\\n99,1e-05,1.0,,\\n100,0.27708,0.95238,,\\n101,7e-05,1.0,,\\n102,3e-05,1.0,,\\n103,0.00054,1.0,,\\n104,0.74638,0.87179,,\\n105,0.39937,0.96,,\\n106,0.00088,1.0,,\\n107,9e-05,1.0,,\\n108,1e-05,1.0,,\\n109,2e-05,1.0,,\\n110,1e-05,1.0,,\\n111,0.0,1.0,,\\n112,0.4246,0.95,,\\n113,0.0015,1.0,,\\n114,2e-05,1.0,,\\n115,0.00076,1.0,,\\n116,0.19573,0.96667,,\\n117,8e-05,1.0,,\\n118,0.75925,0.78261,,\\n119,0.0,1.0,,\\n120,0.00014,1.0,,\\n121,3e-05,1.0,,\\n122,2.14364,0.68966,,\\n123,0.38315,0.95652,,\\n124,0.0,1.0,,\\n125,6e-05,1.0,,\\n126,0.0,1.0,,\\n127,3e-05,1.0,,\\n128,0.30309,0.96667,,\\n129,1e-05,1.0,,\\n130,0.34128,0.96667,,\\n131,0.0,1.0,,\\n132,0.00036,1.0,,\\n133,0.52621,0.96,,\\n134,1e-05,1.0,,\\n135,1.15078,0.84848,,\\n136,0.41712,0.95455,,\\n137,0.0,1.0,,\\n138,0.47717,0.96296,,\\n139,0.21422,0.96667,,\\n140,0.28359,0.96296,,\\n141,0.40568,0.96296,,\\n142,1e-05,1.0,,\\n143,0.0,1.0,,\\n144,0.0,1.0,,\\n145,4e-05,1.0,,\\n146,0.0,1.0,,\\n147,0.0,1.0,,\\n148,0.0,1.0,,\\n149,0.0,1.0,,\\n150,1e-05,1.0,,\\n151,0.13458,0.96667,,\\n152,0.51374,0.94737,,\\n153,0.34886,0.95455,,\\n154,0.0,1.0,,\\n155,0.00024,1.0,,\\n156,0.0,1.0,,\\n157,1.98208,0.625,,\\n158,0.0,1.0,,\\n159,0.0,1.0,,\\n160,0.21172,0.96667,,\\n161,1e-05,1.0,,\\n162,0.0,1.0,,\\n163,0.44768,0.95833,,\\n164,0.0,1.0,,\\n165,0.28621,0.96667,,\\n166,0.0,1.0,,\\n167,0.0,1.0,,\\n168,1.39435,0.79412,,\\n169,0.0,1.0,,\\n170,1e-05,1.0,,\\n171,0.29481,0.96667,,\\n172,0.86105,0.86364,,\\n173,0.0,1.0,,\\n174,0.38487,0.94444,,\\n175,1.3062,0.84,,\\n176,0.0,1.0,,\\n177,0.45204,0.96296,,\\n178,0.0,1.0,,\\n179,0.0,1.0,,\\n180,0.29703,0.95652,,\\n181,0.72619,0.76923,,\\n182,0.09032,0.95238,,\\n183,7e-05,1.0,,\\n184,0.0,1.0,,\\n185,0.0,1.0,,\\n186,0.0,1.0,,\\n187,0.52653,0.96,,\\n188,0.0,1.0,,\\n189,0.45152,0.95,,\\n190,1e-05,1.0,,\\n191,0.0,1.0,,\\n192,2.23533,0.68966,,\\n193,0.0,1.0,,\\n194,2.36395,0.52174,,\\n195,0.72481,0.87179,,\\n196,0.43554,0.96,,\\n197,0.61332,0.73913,,\\n198,0.87817,0.84848,,\\n199,0.19316,0.96296,,\\n200,0.0,1.0,,\\n201,0.0,1.0,,\\n202,0.0,1.0,,\\n203,0.0002,1.0,,\\n204,0.0,1.0,,\\n205,1.53959,0.65385,,\\n206,0.10826,0.95833,,\\n207,8e-05,1.0,,\\n208,0.0,1.0,,\\n209,0.0,1.0,,\\n210,0.00035,1.0,,\\n'"
      ]
     },
     "execution_count": 44,
     "metadata": {},
     "output_type": "execute_result"
    }
   ],
   "source": [
    "\n",
    "content = client.files.content(\"file-OcpM9I1BQIhpnGrU7eYsWshT\")\n",
    "content.content"
   ]
  },
  {
   "cell_type": "code",
   "execution_count": 24,
   "metadata": {},
   "outputs": [
    {
     "data": {
      "text/plain": [
       "SyncCursorPage[FineTuningJobEvent](data=[FineTuningJobEvent(id='ftevent-tI7WlVzvPu8NgWVnjbYo4rpn', created_at=1712069341, level='info', message='Fine-tuning job started', object='fine_tuning.job.event', data=None, type='message'), FineTuningJobEvent(id='ftevent-XJceaGsbQaCzrUaOfe1cDfio', created_at=1712069340, level='info', message='Files validated, moving job to queued state', object='fine_tuning.job.event', data={}, type='message'), FineTuningJobEvent(id='ftevent-WHDsO8p1OTtVLsUGePnemNqM', created_at=1712069318, level='info', message='Validating training file: file-RTkKsnvfvPR39tOZF9OBHDe0', object='fine_tuning.job.event', data={}, type='message'), FineTuningJobEvent(id='ftevent-ql1yz0C3hnvjQY5VJvDJ8P2o', created_at=1712069318, level='info', message='Created fine-tuning job: ftjob-tZ4qTUOubSUzQ6zxOKKTRjlg', object='fine_tuning.job.event', data={}, type='message')], object='list', has_more=False)"
      ]
     },
     "execution_count": 24,
     "metadata": {},
     "output_type": "execute_result"
    }
   ],
   "source": [
    "client.fine_tuning.jobs.list_events(fine_tuning_job_id=\"ftjob-tZ4qTUOubSUzQ6zxOKKTRjlg\", limit=10)"
   ]
  },
  {
   "cell_type": "code",
   "execution_count": null,
   "metadata": {},
   "outputs": [],
   "source": [
    "from openai import OpenAI\n",
    "client = OpenAI()\n",
    "\n",
    "completion = client.chat.completions.create(\n",
    "  model=\"ft:gpt-3.5-turbo:my-org:custom_suffix:id\",\n",
    "  messages=[\n",
    "    {\"role\": \"system\", \"content\": \"You are a helpful assistant.\"},\n",
    "    {\"role\": \"user\", \"content\": \"Hello!\"}\n",
    "  ]\n",
    ")\n",
    "print(completion.choices[0].message)"
   ]
  },
  {
   "cell_type": "code",
   "execution_count": null,
   "metadata": {},
   "outputs": [],
   "source": [
    "from openai import OpenAI\n",
    "client = OpenAI()\n",
    "\n",
    "# List 10 fine-tuning jobs\n",
    "client.fine_tuning.jobs.list(limit=10)\n",
    "\n",
    "# Retrieve the state of a fine-tune\n",
    "client.fine_tuning.jobs.retrieve(\"ftjob-abc123\")\n",
    "\n",
    "# Cancel a job\n",
    "client.fine_tuning.jobs.cancel(\"ftjob-abc123\")\n",
    "\n",
    "# List up to 10 events from a fine-tuning job\n",
    "client.fine_tuning.jobs.list_events(fine_tuning_job_id=\"ftjob-abc123\", limit=10)\n",
    "\n",
    "# Delete a fine-tuned model (must be an owner of the org the model was created in)\n",
    "client.models.delete(\"ft:gpt-3.5-turbo:acemeco:suffix:abc123\")"
   ]
  }
 ],
 "metadata": {
  "kernelspec": {
   "display_name": "Python 3",
   "language": "python",
   "name": "python3"
  },
  "language_info": {
   "codemirror_mode": {
    "name": "ipython",
    "version": 3
   },
   "file_extension": ".py",
   "mimetype": "text/x-python",
   "name": "python",
   "nbconvert_exporter": "python",
   "pygments_lexer": "ipython3",
   "version": "3.9.19"
  }
 },
 "nbformat": 4,
 "nbformat_minor": 2
}
